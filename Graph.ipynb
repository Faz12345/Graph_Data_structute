{
 "cells": [
  {
   "cell_type": "code",
   "execution_count": null,
   "metadata": {},
   "outputs": [
    {
     "name": "stdout",
     "output_type": "stream",
     "text": [
      "0:-->{vertex : 3 , weight : 9}-->{vertex : 2 , weight : 13}-->{vertex : 1 , weight : 10}\n",
      "1:-->{vertex : 5 , weight : 14}-->{vertex : 4 , weight : 18}-->{vertex : 3 , weight : 12}-->{vertex : 5 , weight : 15}-->{vertex : 0 , weight : 10}\n",
      "2:-->{vertex : 5 , weight : 6}-->{vertex : 3 , weight : 8}-->{vertex : 0 , weight : 13}\n",
      "3:-->{vertex : 4 , weight : 17}-->{vertex : 2 , weight : 8}-->{vertex : 1 , weight : 12}-->{vertex : 0 , weight : 9}\n",
      "4:-->{vertex : 1 , weight : 18}-->{vertex : 3 , weight : 17}\n",
      "5:-->{vertex : 1 , weight : 14}-->{vertex : 2 , weight : 6}-->{vertex : 1 , weight : 15}\n",
      "\n"
     ]
    }
   ],
   "source": [
    "class Node: #create a class Node\n",
    "    def __init__(self,vertex=0,weight=0,next=None): #initialising objects and attributes\n",
    "        self.vertex = vertex\n",
    "        self.weight = weight\n",
    "        self.next = next\n",
    "\n",
    "class List:\n",
    "    def __init__(self,size):\n",
    "        self.size = size #initialising size of the graph\n",
    "        self.graph = [None]*self.size \n",
    "\n",
    "    def addEdge(self,u,v,w): #method for adding edge between nodes\n",
    "        node = Node(v,w,self.graph[u])\n",
    "        node.next = self.graph[u]\n",
    "        self.graph[u] = node # u-->v\n",
    "\n",
    "        node = Node(u,w,self.graph[v])\n",
    "        node.next = self.graph[v]\n",
    "        self.graph[v] = node #v-->u\n",
    "\n",
    "    def addVertex(self,u,v,w):#method for adding single vertex\n",
    "        self.addEdge(u,v,w)\n",
    "\n",
    "    def delEdge(self,u,v,w):#method for deleting Edge\n",
    "        def remove(head,vertex,weight): #helper func for removing Edge \n",
    "            dummy = Node(-1,-1,head)\n",
    "            prev,curr = dummy,head #initialisation\n",
    "            while curr: #iterating till curr exist\n",
    "                if curr.vertex == vertex and curr.weight == weight:\n",
    "                    prev.next = curr.next #if condition matched then remove the edge\n",
    "                    break #break to come out  of the loop\n",
    "                prev,curr = curr,curr.next #updating prev and curr values\n",
    "            return dummy.next\n",
    "        self.graph[u] = remove(self.graph[u],v,w)\n",
    "        self.graph[v] = remove(self.graph[v],u,w)\n",
    "\n",
    "    def delvertex(self,k): #method deleting a vertex\n",
    "        for i in range(self.size): \n",
    "            temp = self.graph[i]\n",
    "            if temp and temp.vertex == k:\n",
    "                self.graph[i] = temp.next\n",
    "                return temp\n",
    "            prev = None\n",
    "            while temp and temp.vertex != k:\n",
    "                prev = temp\n",
    "                temp = temp.next\n",
    "            if prev and temp:\n",
    "                prev.next = temp.next\n",
    "                \n",
    "    def display(self):\n",
    "        for i in range(self.size):\n",
    "            print(f'{i}:',end='')\n",
    "            temp = self.graph[i]\n",
    "            while temp:\n",
    "                print(f'-->{{vertex : {temp.vertex} , weight : {temp.weight}}}',end='')\n",
    "                temp = temp.next\n",
    "            print()\n",
    "        print()\n",
    "l = List(6)\n",
    "l.addEdge(0,1,10)\n",
    "l.addEdge(0,2,13)\n",
    "l.addEdge(0,3,9)\n",
    "l.addEdge(1,5,15)\n",
    "l.addEdge(1,3,12)\n",
    "l.addEdge(2,3,8)\n",
    "l.addEdge(2,5,6)\n",
    "l.addEdge(3,4,17)\n",
    "l.addEdge(4,1,18)\n",
    "l.addEdge(5,1,14)\n",
    "l.display()"
   ]
  },
  {
   "cell_type": "code",
   "execution_count": null,
   "metadata": {},
   "outputs": [
    {
     "name": "stdout",
     "output_type": "stream",
     "text": [
      "0:-->{vertex : 3 , weight : 9}-->{vertex : 2 , weight : 13}-->{vertex : 1 , weight : 10}\n",
      "1:-->{vertex : 5 , weight : 14}-->{vertex : 4 , weight : 18}-->{vertex : 3 , weight : 12}-->{vertex : 5 , weight : 15}-->{vertex : 0 , weight : 10}\n",
      "2:-->{vertex : 5 , weight : 6}-->{vertex : 3 , weight : 8}-->{vertex : 0 , weight : 13}\n",
      "3:-->{vertex : 5 , weight : 21}-->{vertex : 4 , weight : 17}-->{vertex : 2 , weight : 8}-->{vertex : 1 , weight : 12}-->{vertex : 0 , weight : 9}\n",
      "4:-->{vertex : 5 , weight : 32}-->{vertex : 1 , weight : 18}-->{vertex : 3 , weight : 17}\n",
      "5:-->{vertex : 4 , weight : 32}-->{vertex : 3 , weight : 21}-->{vertex : 1 , weight : 14}-->{vertex : 2 , weight : 6}-->{vertex : 1 , weight : 15}\n",
      "\n"
     ]
    }
   ],
   "source": [
    "l.addVertex(5,3,21)\n",
    "l.addVertex(5,4,32)\n",
    "l.display()"
   ]
  },
  {
   "cell_type": "code",
   "execution_count": null,
   "metadata": {},
   "outputs": [
    {
     "name": "stdout",
     "output_type": "stream",
     "text": [
      "0:-->{vertex : 3 , weight : 9}-->{vertex : 2 , weight : 13}\n",
      "1:-->{vertex : 5 , weight : 14}-->{vertex : 4 , weight : 18}-->{vertex : 5 , weight : 15}\n",
      "2:-->{vertex : 5 , weight : 6}-->{vertex : 3 , weight : 8}-->{vertex : 0 , weight : 13}\n",
      "3:-->{vertex : 5 , weight : 21}-->{vertex : 4 , weight : 17}-->{vertex : 2 , weight : 8}-->{vertex : 0 , weight : 9}\n",
      "4:-->{vertex : 5 , weight : 32}-->{vertex : 1 , weight : 18}-->{vertex : 3 , weight : 17}\n",
      "5:-->{vertex : 4 , weight : 32}-->{vertex : 3 , weight : 21}-->{vertex : 1 , weight : 14}-->{vertex : 2 , weight : 6}-->{vertex : 1 , weight : 15}\n",
      "\n"
     ]
    }
   ],
   "source": [
    "l.delEdge(0,1,10)\n",
    "l.delEdge(1,3,12)\n",
    "l.display()"
   ]
  },
  {
   "cell_type": "code",
   "execution_count": null,
   "metadata": {},
   "outputs": [
    {
     "name": "stdout",
     "output_type": "stream",
     "text": [
      "0:-->{vertex : 2 , weight : 13}\n",
      "1:-->{vertex : 5 , weight : 14}-->{vertex : 4 , weight : 18}-->{vertex : 5 , weight : 15}\n",
      "2:-->{vertex : 5 , weight : 6}-->{vertex : 3 , weight : 8}-->{vertex : 0 , weight : 13}\n",
      "3:-->{vertex : 5 , weight : 21}-->{vertex : 4 , weight : 17}-->{vertex : 2 , weight : 8}-->{vertex : 0 , weight : 9}\n",
      "4:-->{vertex : 5 , weight : 32}-->{vertex : 1 , weight : 18}-->{vertex : 3 , weight : 17}\n",
      "5:-->{vertex : 4 , weight : 32}-->{vertex : 3 , weight : 21}-->{vertex : 1 , weight : 14}-->{vertex : 2 , weight : 6}-->{vertex : 1 , weight : 15}\n",
      "\n"
     ]
    }
   ],
   "source": [
    "l.delvertex(3)\n",
    "l.display()"
   ]
  }
 ],
 "metadata": {
  "kernelspec": {
   "display_name": "Python 3",
   "language": "python",
   "name": "python3"
  },
  "language_info": {
   "name": "python",
   "version": "3.12.5"
  }
 },
 "nbformat": 4,
 "nbformat_minor": 2
}
